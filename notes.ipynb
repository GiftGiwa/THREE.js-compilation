{
 "cells": [
  {
   "cell_type": "markdown",
   "metadata": {},
   "source": [
    "I'm just going to write down Three.JS notes here on stuff that might be important later.\n",
    "\n",
    "- For an all white background/foreground, set the background to white (0xffffff) and the foreground to MeshLambertMaterial with its color as 0xf0f0f0\n",
    "\n",
    "- \n",
    "\n"
   ]
  }
 ],
 "metadata": {
  "language_info": {
   "name": "python"
  },
  "orig_nbformat": 4
 },
 "nbformat": 4,
 "nbformat_minor": 2
}
